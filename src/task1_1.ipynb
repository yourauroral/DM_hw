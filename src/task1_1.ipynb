{
 "cells": [
  {
   "cell_type": "code",
   "execution_count": 1,
   "id": "initial_id",
   "metadata": {
    "ExecuteTime": {
     "end_time": "2024-12-30T07:33:07.703352Z",
     "start_time": "2024-12-30T07:33:07.688005Z"
    },
    "collapsed": true
   },
   "outputs": [],
   "source": [
    "import pandas as pd\n",
    "import numpy as np\n",
    "import matplotlib as mpl\n",
    "import matplotlib.pyplot as plt\n",
    "# notebook嵌入图片\n",
    "%matplotlib inline\n",
    "# 提高分辨率\n",
    "%config InlineBackend.figure_format='retina'\n",
    "from matplotlib.font_manager import FontProperties\n",
    "font = FontProperties(fname=\"/root/miniconda3/lib/python3.12/site-packages/matplotlib/mpl-data/fonts/ttf/SimHei.ttf\")\n",
    "import warnings\n",
    "warnings.filterwarnings('ignore')"
   ]
  },
  {
   "cell_type": "code",
   "execution_count": 2,
   "id": "355ec4dc9cf6041a",
   "metadata": {
    "ExecuteTime": {
     "end_time": "2024-12-30T07:21:25.626886Z",
     "start_time": "2024-12-30T07:21:24.668623Z"
    },
    "collapsed": false
   },
   "outputs": [],
   "source": [
    "#读取数据\n",
    "data1 = pd.read_csv(\"data/data1.csv\", encoding=\"gbk\")\n",
    "data2 = pd.read_csv(\"data/data2.csv\", encoding=\"gbk\")\n",
    "data3 = pd.read_csv(\"data/data3.csv\", encoding=\"gbk\")"
   ]
  },
  {
   "cell_type": "markdown",
   "id": "ab269548975b9ff5",
   "metadata": {
    "collapsed": false
   },
   "source": [
    "### 查看数据格式"
   ]
  },
  {
   "cell_type": "code",
   "execution_count": 3,
   "id": "ac7c48251c316cf1",
   "metadata": {
    "ExecuteTime": {
     "end_time": "2024-12-30T06:31:52.339858Z",
     "start_time": "2024-12-30T06:31:52.331201Z"
    },
    "collapsed": false
   },
   "outputs": [
    {
     "data": {
      "text/plain": [
       "<bound method DataFrame.info of       Index  CardNo Sex    Major  AccessCardNo\n",
       "0         1  180001   男   18国际金融      19762330\n",
       "1         2  180002   男   18国际金融      20521594\n",
       "2         3  180003   男   18国际金融      20513946\n",
       "3         4  180004   男   18国际金融      20018058\n",
       "4         5  180005   男   18国际金融      20945770\n",
       "...     ...     ...  ..      ...           ...\n",
       "4336   4337  184337   女   18工业工程      19051328\n",
       "4337   4338  184338   女   18工业工程      21915376\n",
       "4338   4339  184339   女   18工业工程      11513762\n",
       "4339   4340  164340   男     18审计      12750370\n",
       "4340   4341  164341   男  18宝玉石鉴定        427586\n",
       "\n",
       "[4341 rows x 5 columns]>"
      ]
     },
     "execution_count": 3,
     "metadata": {},
     "output_type": "execute_result"
    }
   ],
   "source": [
    "data1.info"
   ]
  },
  {
   "cell_type": "code",
   "execution_count": 4,
   "id": "d5606aee9f81bcf0",
   "metadata": {
    "ExecuteTime": {
     "end_time": "2024-12-30T06:31:28.681651Z",
     "start_time": "2024-12-30T06:31:28.655513Z"
    },
    "collapsed": false
   },
   "outputs": [
    {
     "data": {
      "text/html": [
       "<div>\n",
       "<style scoped>\n",
       "    .dataframe tbody tr th:only-of-type {\n",
       "        vertical-align: middle;\n",
       "    }\n",
       "\n",
       "    .dataframe tbody tr th {\n",
       "        vertical-align: top;\n",
       "    }\n",
       "\n",
       "    .dataframe thead th {\n",
       "        text-align: right;\n",
       "    }\n",
       "</style>\n",
       "<table border=\"1\" class=\"dataframe\">\n",
       "  <thead>\n",
       "    <tr style=\"text-align: right;\">\n",
       "      <th></th>\n",
       "      <th>Index</th>\n",
       "      <th>CardNo</th>\n",
       "      <th>PeoNo</th>\n",
       "      <th>Date</th>\n",
       "      <th>Money</th>\n",
       "      <th>FundMoney</th>\n",
       "      <th>Surplus</th>\n",
       "      <th>CardCount</th>\n",
       "      <th>Type</th>\n",
       "      <th>TermNo</th>\n",
       "      <th>TermSerNo</th>\n",
       "      <th>conOperNo</th>\n",
       "      <th>OperNo</th>\n",
       "      <th>Dept</th>\n",
       "    </tr>\n",
       "  </thead>\n",
       "  <tbody>\n",
       "    <tr>\n",
       "      <th>0</th>\n",
       "      <td>117342773</td>\n",
       "      <td>181316</td>\n",
       "      <td>20181316</td>\n",
       "      <td>2019/4/20 20:17</td>\n",
       "      <td>3.0</td>\n",
       "      <td>0.0</td>\n",
       "      <td>186.1</td>\n",
       "      <td>818</td>\n",
       "      <td>消费</td>\n",
       "      <td>49</td>\n",
       "      <td>NaN</td>\n",
       "      <td>NaN</td>\n",
       "      <td>235</td>\n",
       "      <td>第一食堂</td>\n",
       "    </tr>\n",
       "    <tr>\n",
       "      <th>1</th>\n",
       "      <td>117344766</td>\n",
       "      <td>181316</td>\n",
       "      <td>20181316</td>\n",
       "      <td>2019/4/20 8:47</td>\n",
       "      <td>0.5</td>\n",
       "      <td>0.0</td>\n",
       "      <td>199.5</td>\n",
       "      <td>814</td>\n",
       "      <td>消费</td>\n",
       "      <td>63</td>\n",
       "      <td>NaN</td>\n",
       "      <td>NaN</td>\n",
       "      <td>27</td>\n",
       "      <td>第二食堂</td>\n",
       "    </tr>\n",
       "    <tr>\n",
       "      <th>2</th>\n",
       "      <td>117346258</td>\n",
       "      <td>181316</td>\n",
       "      <td>20181316</td>\n",
       "      <td>2019/4/22 7:27</td>\n",
       "      <td>0.5</td>\n",
       "      <td>0.0</td>\n",
       "      <td>183.1</td>\n",
       "      <td>820</td>\n",
       "      <td>消费</td>\n",
       "      <td>63</td>\n",
       "      <td>NaN</td>\n",
       "      <td>NaN</td>\n",
       "      <td>27</td>\n",
       "      <td>第二食堂</td>\n",
       "    </tr>\n",
       "    <tr>\n",
       "      <th>3</th>\n",
       "      <td>117308066</td>\n",
       "      <td>181317</td>\n",
       "      <td>20181317</td>\n",
       "      <td>2019/4/21 7:46</td>\n",
       "      <td>3.5</td>\n",
       "      <td>0.0</td>\n",
       "      <td>50.2</td>\n",
       "      <td>211</td>\n",
       "      <td>消费</td>\n",
       "      <td>196</td>\n",
       "      <td>NaN</td>\n",
       "      <td>NaN</td>\n",
       "      <td>133</td>\n",
       "      <td>好利来食品店</td>\n",
       "    </tr>\n",
       "    <tr>\n",
       "      <th>4</th>\n",
       "      <td>117309001</td>\n",
       "      <td>181317</td>\n",
       "      <td>20181317</td>\n",
       "      <td>2019/4/19 22:31</td>\n",
       "      <td>2.5</td>\n",
       "      <td>0.0</td>\n",
       "      <td>61.7</td>\n",
       "      <td>209</td>\n",
       "      <td>消费</td>\n",
       "      <td>146</td>\n",
       "      <td>NaN</td>\n",
       "      <td>NaN</td>\n",
       "      <td>48</td>\n",
       "      <td>好利来食品店</td>\n",
       "    </tr>\n",
       "  </tbody>\n",
       "</table>\n",
       "</div>"
      ],
      "text/plain": [
       "       Index  CardNo     PeoNo             Date  Money  FundMoney  Surplus  \\\n",
       "0  117342773  181316  20181316  2019/4/20 20:17    3.0        0.0    186.1   \n",
       "1  117344766  181316  20181316   2019/4/20 8:47    0.5        0.0    199.5   \n",
       "2  117346258  181316  20181316   2019/4/22 7:27    0.5        0.0    183.1   \n",
       "3  117308066  181317  20181317   2019/4/21 7:46    3.5        0.0     50.2   \n",
       "4  117309001  181317  20181317  2019/4/19 22:31    2.5        0.0     61.7   \n",
       "\n",
       "   CardCount Type  TermNo TermSerNo  conOperNo  OperNo    Dept  \n",
       "0        818   消费      49       NaN        NaN     235    第一食堂  \n",
       "1        814   消费      63       NaN        NaN      27    第二食堂  \n",
       "2        820   消费      63       NaN        NaN      27    第二食堂  \n",
       "3        211   消费     196       NaN        NaN     133  好利来食品店  \n",
       "4        209   消费     146       NaN        NaN      48  好利来食品店  "
      ]
     },
     "execution_count": 4,
     "metadata": {},
     "output_type": "execute_result"
    }
   ],
   "source": [
    "data2.head()"
   ]
  },
  {
   "cell_type": "code",
   "execution_count": 5,
   "id": "95c7461ca4afe0c4",
   "metadata": {
    "ExecuteTime": {
     "end_time": "2024-12-30T06:31:45.857398Z",
     "start_time": "2024-12-30T06:31:45.837537Z"
    },
    "collapsed": false
   },
   "outputs": [
    {
     "data": {
      "text/plain": [
       "<bound method DataFrame.info of          Index  AccessCardNo             Date    Address  Access Describe\n",
       "0      1330906      25558880    2019/4/1 0:00  第六教学楼[进门]       1     允许通过\n",
       "1      1330907      18413143    2019/4/1 0:02  第六教学楼[出门]       1     允许通过\n",
       "2      1331384      11642752    2019/4/1 0:00    飞凤轩[进门]       1     允许通过\n",
       "3      1330908      24124155    2019/4/1 0:00  第六教学楼[出门]       1     允许通过\n",
       "4      1331385      18629328    2019/4/1 0:11    飞凤轩[进门]       1     允许通过\n",
       "...        ...           ...              ...        ...     ...      ...\n",
       "43151  1376631      18842663  2019/4/28 23:54    青鸾苑[进门]       1     允许通过\n",
       "43152  1372431      20105445  2019/4/28 23:55  第六教学楼[出门]       1     允许通过\n",
       "43153  1374888        541579  2019/4/28 23:55    飞凤轩[进门]       1     允许通过\n",
       "43154  1372432      24961634  2019/4/28 23:57  第六教学楼[进门]       1     允许通过\n",
       "43155  1376632      18614986  2019/4/28 23:59    青鸾苑[进门]       1     允许通过\n",
       "\n",
       "[43156 rows x 6 columns]>"
      ]
     },
     "execution_count": 5,
     "metadata": {},
     "output_type": "execute_result"
    }
   ],
   "source": [
    "data3.info"
   ]
  },
  {
   "cell_type": "markdown",
   "id": "2bb4336eb4f323eb",
   "metadata": {
    "collapsed": false
   },
   "source": [
    "### 数据预处理\n"
   ]
  },
  {
   "cell_type": "markdown",
   "id": "7dbd7a6fd48840ec",
   "metadata": {
    "collapsed": false
   },
   "source": [
    "data1"
   ]
  },
  {
   "cell_type": "code",
   "execution_count": 6,
   "id": "3e384315aaa85ccf",
   "metadata": {
    "ExecuteTime": {
     "end_time": "2024-12-30T06:33:18.881900Z",
     "start_time": "2024-12-30T06:33:18.867764Z"
    },
    "collapsed": false
   },
   "outputs": [
    {
     "data": {
      "text/plain": [
       "(4341, 5)"
      ]
     },
     "execution_count": 6,
     "metadata": {},
     "output_type": "execute_result"
    }
   ],
   "source": [
    "data1.shape"
   ]
  },
  {
   "cell_type": "code",
   "execution_count": 7,
   "id": "88e8fa5ab414605c",
   "metadata": {
    "ExecuteTime": {
     "end_time": "2024-12-30T06:36:20.480543Z",
     "start_time": "2024-12-30T06:36:20.467903Z"
    },
    "collapsed": false
   },
   "outputs": [
    {
     "data": {
      "text/plain": [
       "Index           0.0\n",
       "CardNo          0.0\n",
       "Sex             0.0\n",
       "Major           0.0\n",
       "AccessCardNo    0.0\n",
       "dtype: float64"
      ]
     },
     "execution_count": 7,
     "metadata": {},
     "output_type": "execute_result"
    }
   ],
   "source": [
    "# 缺失值占比\n",
    "data1.apply(lambda x : sum(x.isnull())/len(x), axis=0)"
   ]
  },
  {
   "cell_type": "code",
   "execution_count": 8,
   "id": "61af8113c7f72ecd",
   "metadata": {
    "ExecuteTime": {
     "end_time": "2024-12-30T07:59:53.016543Z",
     "start_time": "2024-12-30T07:59:52.998358Z"
    },
    "collapsed": false
   },
   "outputs": [],
   "source": [
    "data1.to_csv('data/task1_1_1.csv', index=False, encoding='gbk')"
   ]
  },
  {
   "cell_type": "markdown",
   "id": "87f9b00437c5c8c6",
   "metadata": {
    "collapsed": false
   },
   "source": [
    "data2"
   ]
  },
  {
   "cell_type": "code",
   "execution_count": 9,
   "id": "9ffb79a41832a162",
   "metadata": {
    "ExecuteTime": {
     "end_time": "2024-12-30T07:21:29.833482Z",
     "start_time": "2024-12-30T07:21:29.824163Z"
    },
    "collapsed": false
   },
   "outputs": [
    {
     "data": {
      "text/plain": [
       "(519367, 14)"
      ]
     },
     "execution_count": 9,
     "metadata": {},
     "output_type": "execute_result"
    }
   ],
   "source": [
    "data2.shape"
   ]
  },
  {
   "cell_type": "code",
   "execution_count": 10,
   "id": "3c035a9d4e5fa5bf",
   "metadata": {
    "ExecuteTime": {
     "end_time": "2024-12-30T07:22:23.157287Z",
     "start_time": "2024-12-30T07:22:22.840865Z"
    },
    "collapsed": false
   },
   "outputs": [
    {
     "name": "stdout",
     "output_type": "stream",
     "text": [
      "Index             0\n",
      "CardNo            0\n",
      "PeoNo             0\n",
      "Date              0\n",
      "Money             0\n",
      "FundMoney         0\n",
      "Surplus           0\n",
      "CardCount         0\n",
      "Type              0\n",
      "TermNo            0\n",
      "TermSerNo    512106\n",
      "conOperNo    519116\n",
      "OperNo            0\n",
      "Dept              0\n",
      "dtype: int64\n"
     ]
    }
   ],
   "source": [
    "print(data2.isnull().sum())"
   ]
  },
  {
   "cell_type": "markdown",
   "id": "c184ff156a1617ae",
   "metadata": {
    "collapsed": false
   },
   "source": [
    "查看TermNo和TermSerNo缺失值占比？"
   ]
  },
  {
   "cell_type": "code",
   "execution_count": 11,
   "id": "f86b9359ce62150e",
   "metadata": {
    "ExecuteTime": {
     "end_time": "2024-12-30T07:21:30.954339Z",
     "start_time": "2024-12-30T07:21:30.911568Z"
    },
    "collapsed": false
   },
   "outputs": [
    {
     "data": {
      "text/plain": [
       "0.999516719391105"
      ]
     },
     "execution_count": 11,
     "metadata": {},
     "output_type": "execute_result"
    }
   ],
   "source": [
    "# 缺失值占比 消费\n",
    "sum(data2.conOperNo.isnull())/len(data2.conOperNo)"
   ]
  },
  {
   "cell_type": "code",
   "execution_count": 12,
   "id": "cebe3df99787c77f",
   "metadata": {
    "ExecuteTime": {
     "end_time": "2024-12-30T07:27:29.164994Z",
     "start_time": "2024-12-30T07:27:29.111151Z"
    },
    "collapsed": false
   },
   "outputs": [
    {
     "data": {
      "text/plain": [
       "0.9860195199155896"
      ]
     },
     "execution_count": 12,
     "metadata": {},
     "output_type": "execute_result"
    }
   ],
   "source": [
    "# 消费操作编码\n",
    "sum(data2.TermSerNo.isnull())/len(data2.TermSerNo)"
   ]
  },
  {
   "cell_type": "markdown",
   "id": "5fe5f8b2872be283",
   "metadata": {
    "collapsed": false
   },
   "source": [
    "几乎都全部确实，除去这两个属性"
   ]
  },
  {
   "cell_type": "code",
   "execution_count": 13,
   "id": "2aeb189f71b02fa6",
   "metadata": {
    "ExecuteTime": {
     "end_time": "2024-12-30T07:29:31.743003Z",
     "start_time": "2024-12-30T07:29:31.699156Z"
    },
    "collapsed": false
   },
   "outputs": [],
   "source": [
    "new_data2 = data2.drop(columns=['conOperNo', 'TermSerNo'])"
   ]
  },
  {
   "cell_type": "markdown",
   "id": "fbd8dd32da2df1d4",
   "metadata": {
    "collapsed": false
   },
   "source": [
    "查看消费地点分布"
   ]
  },
  {
   "cell_type": "code",
   "execution_count": 14,
   "id": "9a709c089676bde0",
   "metadata": {
    "ExecuteTime": {
     "end_time": "2024-12-30T07:38:05.258882Z",
     "start_time": "2024-12-30T07:38:05.224099Z"
    },
    "collapsed": false
   },
   "outputs": [
    {
     "data": {
      "text/plain": [
       "Dept\n",
       "第二食堂      154873\n",
       "第五食堂      117615\n",
       "第一食堂       62090\n",
       "第四食堂       60841\n",
       "第三食堂       52103\n",
       "好利来食品店     31781\n",
       "财务处        18295\n",
       "红太阳超市      12942\n",
       "水电缴费处       3388\n",
       "教师食堂        2145\n",
       "医务室          794\n",
       "第二图书馆        376\n",
       "第一图书馆        291\n",
       "工商系部         197\n",
       "自然科学书库       195\n",
       "财务部          170\n",
       "第七教学楼        165\n",
       "基础课部         133\n",
       "艺术设计学院       131\n",
       "第六教学楼        130\n",
       "人文社科         109\n",
       "第二教学楼         99\n",
       "第五教学楼         99\n",
       "飞凤轩宿管办        86\n",
       "机电系           78\n",
       "第四教学楼         56\n",
       "第三教学楼         52\n",
       "宿管办           47\n",
       "青鸾苑宿管办        25\n",
       "财经系           23\n",
       "第一教学楼         23\n",
       "外语系           12\n",
       "旅游系            3\n",
       "Name: count, dtype: int64"
      ]
     },
     "execution_count": 14,
     "metadata": {},
     "output_type": "execute_result"
    }
   ],
   "source": [
    "data2['Dept'].value_counts(dropna=False)"
   ]
  },
  {
   "cell_type": "code",
   "execution_count": 15,
   "id": "88f72e8ed38e154f",
   "metadata": {
    "ExecuteTime": {
     "end_time": "2024-12-30T07:36:39.829427Z",
     "start_time": "2024-12-30T07:36:39.685036Z"
    },
    "collapsed": false
   },
   "outputs": [
    {
     "data": {
      "image/png": "[encoded data removed]",
      "text/plain": [
       "<Figure size 640x480 with 1 Axes>"
      ]
     },
     "metadata": {
      "image/png": {
       "height": 408,
       "width": 444
      }
     },
     "output_type": "display_data"
    }
   ],
   "source": [
    "# new_data2['Dept'].value_counts().plot(kind='pie')\n",
    "value_counts = new_data2['Dept'].value_counts()  \n",
    "top_counts = value_counts.nlargest(8)  \n",
    "other_counts = value_counts[value_counts.index.isin(top_counts.index) == False].sum()  \n",
    "top_counts['其他'] = other_counts  \n",
    "\n",
    "top_counts.plot(kind='pie', autopct='%1.1f%%')  \n",
    "plt.title('Department Distribution')  \n",
    "plt.ylabel('')  \n",
    "plt.show()"
   ]
  },
  {
   "cell_type": "code",
   "execution_count": 16,
   "id": "88653074df4f7b5a",
   "metadata": {
    "ExecuteTime": {
     "end_time": "2024-12-30T07:48:55.446801Z",
     "start_time": "2024-12-30T07:48:55.362132Z"
    },
    "collapsed": false
   },
   "outputs": [
    {
     "data": {
      "text/html": [
       "<div>\n",
       "<style scoped>\n",
       "    .dataframe tbody tr th:only-of-type {\n",
       "        vertical-align: middle;\n",
       "    }\n",
       "\n",
       "    .dataframe tbody tr th {\n",
       "        vertical-align: top;\n",
       "    }\n",
       "\n",
       "    .dataframe thead th {\n",
       "        text-align: right;\n",
       "    }\n",
       "</style>\n",
       "<table border=\"1\" class=\"dataframe\">\n",
       "  <thead>\n",
       "    <tr style=\"text-align: right;\">\n",
       "      <th></th>\n",
       "      <th>mean</th>\n",
       "      <th>50%</th>\n",
       "      <th>min</th>\n",
       "      <th>max</th>\n",
       "    </tr>\n",
       "  </thead>\n",
       "  <tbody>\n",
       "    <tr>\n",
       "      <th>Money</th>\n",
       "      <td>4.087279</td>\n",
       "      <td>3.0</td>\n",
       "      <td>0.0</td>\n",
       "      <td>900.00</td>\n",
       "    </tr>\n",
       "    <tr>\n",
       "      <th>FundMoney</th>\n",
       "      <td>3.949758</td>\n",
       "      <td>0.0</td>\n",
       "      <td>0.0</td>\n",
       "      <td>9800.00</td>\n",
       "    </tr>\n",
       "    <tr>\n",
       "      <th>Surplus</th>\n",
       "      <td>78.495517</td>\n",
       "      <td>64.5</td>\n",
       "      <td>0.0</td>\n",
       "      <td>9903.61</td>\n",
       "    </tr>\n",
       "    <tr>\n",
       "      <th>CardCount</th>\n",
       "      <td>1016.565421</td>\n",
       "      <td>749.0</td>\n",
       "      <td>1.0</td>\n",
       "      <td>14575.00</td>\n",
       "    </tr>\n",
       "  </tbody>\n",
       "</table>\n",
       "</div>"
      ],
      "text/plain": [
       "                  mean    50%  min       max\n",
       "Money         4.087279    3.0  0.0    900.00\n",
       "FundMoney     3.949758    0.0  0.0   9800.00\n",
       "Surplus      78.495517   64.5  0.0   9903.61\n",
       "CardCount  1016.565421  749.0  1.0  14575.00"
      ]
     },
     "execution_count": 16,
     "metadata": {},
     "output_type": "execute_result"
    }
   ],
   "source": [
    "new_data2[['Money','FundMoney','Surplus','CardCount']].describe().T[['mean', '50%', 'min', 'max']]"
   ]
  },
  {
   "cell_type": "code",
   "execution_count": 17,
   "id": "cfa7de1c7bc7f8b8",
   "metadata": {
    "ExecuteTime": {
     "end_time": "2024-12-30T07:54:44.560675Z",
     "start_time": "2024-12-30T07:54:39.515204Z"
    },
    "collapsed": false
   },
   "outputs": [],
   "source": [
    "import time\n",
    "# 消费时间数据进行时间格式转换并拆分为date和time\n",
    "new_data2['Time'] = new_data2['Date'].apply(lambda date: time.strftime(\n",
    "    '%H:%M', (time.strptime(date, '%Y/%m/%d %H:%M'))))\n",
    "new_data2['Date'] = new_data2['Date'].apply(lambda date: date.split(' ')[0])"
   ]
  },
  {
   "cell_type": "code",
   "execution_count": 18,
   "id": "b024c7024610bef",
   "metadata": {
    "ExecuteTime": {
     "end_time": "2024-12-30T07:57:29.925029Z",
     "start_time": "2024-12-30T07:57:29.830906Z"
    },
    "collapsed": false
   },
   "outputs": [
    {
     "name": "stdout",
     "output_type": "stream",
     "text": [
      "    Time       Date\n",
      "0  20:17  2019/4/20\n",
      "1  08:47  2019/4/20\n",
      "2  07:27  2019/4/22\n",
      "3  07:46  2019/4/21\n",
      "4  22:31  2019/4/19\n"
     ]
    }
   ],
   "source": [
    "print(new_data2[['Time', 'Date']].head())  "
   ]
  },
  {
   "cell_type": "code",
   "execution_count": 19,
   "id": "1463d0d4de5fa655",
   "metadata": {
    "ExecuteTime": {
     "end_time": "2024-12-30T08:26:53.770832Z",
     "start_time": "2024-12-30T08:26:53.763659Z"
    },
    "collapsed": false
   },
   "outputs": [],
   "source": [
    "# 删除无用属性\n",
    "del new_data2['Index']\n",
    "del new_data2['PeoNo']"
   ]
  },
  {
   "cell_type": "code",
   "execution_count": 20,
   "id": "183678ebc48d4d74",
   "metadata": {
    "ExecuteTime": {
     "end_time": "2024-12-30T08:26:56.697763Z",
     "start_time": "2024-12-30T08:26:54.689602Z"
    },
    "collapsed": false
   },
   "outputs": [],
   "source": [
    "new_data2.to_csv('data/task1_1_2.csv', index=False, encoding='gbk')"
   ]
  },
  {
   "cell_type": "markdown",
   "id": "9ba15957d6af9d99",
   "metadata": {
    "collapsed": false
   },
   "source": [
    "data3"
   ]
  },
  {
   "cell_type": "code",
   "execution_count": 21,
   "id": "7c28c05a5bdef149",
   "metadata": {
    "ExecuteTime": {
     "end_time": "2024-12-30T08:01:18.727700Z",
     "start_time": "2024-12-30T08:01:18.713640Z"
    },
    "collapsed": false
   },
   "outputs": [
    {
     "data": {
      "text/html": [
       "<div>\n",
       "<style scoped>\n",
       "    .dataframe tbody tr th:only-of-type {\n",
       "        vertical-align: middle;\n",
       "    }\n",
       "\n",
       "    .dataframe tbody tr th {\n",
       "        vertical-align: top;\n",
       "    }\n",
       "\n",
       "    .dataframe thead th {\n",
       "        text-align: right;\n",
       "    }\n",
       "</style>\n",
       "<table border=\"1\" class=\"dataframe\">\n",
       "  <thead>\n",
       "    <tr style=\"text-align: right;\">\n",
       "      <th></th>\n",
       "      <th>Index</th>\n",
       "      <th>AccessCardNo</th>\n",
       "      <th>Date</th>\n",
       "      <th>Address</th>\n",
       "      <th>Access</th>\n",
       "      <th>Describe</th>\n",
       "    </tr>\n",
       "  </thead>\n",
       "  <tbody>\n",
       "    <tr>\n",
       "      <th>0</th>\n",
       "      <td>1330906</td>\n",
       "      <td>25558880</td>\n",
       "      <td>2019/4/1 0:00</td>\n",
       "      <td>第六教学楼[进门]</td>\n",
       "      <td>1</td>\n",
       "      <td>允许通过</td>\n",
       "    </tr>\n",
       "    <tr>\n",
       "      <th>1</th>\n",
       "      <td>1330907</td>\n",
       "      <td>18413143</td>\n",
       "      <td>2019/4/1 0:02</td>\n",
       "      <td>第六教学楼[出门]</td>\n",
       "      <td>1</td>\n",
       "      <td>允许通过</td>\n",
       "    </tr>\n",
       "    <tr>\n",
       "      <th>2</th>\n",
       "      <td>1331384</td>\n",
       "      <td>11642752</td>\n",
       "      <td>2019/4/1 0:00</td>\n",
       "      <td>飞凤轩[进门]</td>\n",
       "      <td>1</td>\n",
       "      <td>允许通过</td>\n",
       "    </tr>\n",
       "  </tbody>\n",
       "</table>\n",
       "</div>"
      ],
      "text/plain": [
       "     Index  AccessCardNo           Date    Address  Access Describe\n",
       "0  1330906      25558880  2019/4/1 0:00  第六教学楼[进门]       1     允许通过\n",
       "1  1330907      18413143  2019/4/1 0:02  第六教学楼[出门]       1     允许通过\n",
       "2  1331384      11642752  2019/4/1 0:00    飞凤轩[进门]       1     允许通过"
      ]
     },
     "execution_count": 21,
     "metadata": {},
     "output_type": "execute_result"
    }
   ],
   "source": [
    "# data3数据处理\n",
    "data3.head(3)"
   ]
  },
  {
   "cell_type": "code",
   "execution_count": 22,
   "id": "d11f166a572ffb10",
   "metadata": {
    "ExecuteTime": {
     "end_time": "2024-12-30T08:01:34.154706Z",
     "start_time": "2024-12-30T08:01:34.142590Z"
    },
    "collapsed": false
   },
   "outputs": [
    {
     "data": {
      "text/plain": [
       "(43156, 6)"
      ]
     },
     "execution_count": 22,
     "metadata": {},
     "output_type": "execute_result"
    }
   ],
   "source": [
    "data3.shape"
   ]
  },
  {
   "cell_type": "code",
   "execution_count": 23,
   "id": "8aed92e4a6d40e30",
   "metadata": {
    "ExecuteTime": {
     "end_time": "2024-12-30T08:22:09.488106Z",
     "start_time": "2024-12-30T08:22:09.472791Z"
    },
    "collapsed": false
   },
   "outputs": [
    {
     "data": {
      "text/plain": [
       "Index            int64\n",
       "AccessCardNo     int64\n",
       "Date            object\n",
       "Address         object\n",
       "Access           int64\n",
       "Describe        object\n",
       "dtype: object"
      ]
     },
     "execution_count": 23,
     "metadata": {},
     "output_type": "execute_result"
    }
   ],
   "source": [
    "data3.dtypes"
   ]
  },
  {
   "cell_type": "code",
   "execution_count": 24,
   "id": "5555485616db26e3",
   "metadata": {
    "ExecuteTime": {
     "end_time": "2024-12-30T08:39:37.193926Z",
     "start_time": "2024-12-30T08:39:36.620796Z"
    },
    "collapsed": false
   },
   "outputs": [],
   "source": [
    "data3['Time'] = data3['Date'].apply(lambda date: time.strftime(\n",
    "    '%H:%M', (time.strptime(date, '%Y/%m/%d %H:%M'))))\n",
    "data3['Date'] = data3['Date'].apply(lambda date: date.split(' ')[0])"
   ]
  },
  {
   "cell_type": "code",
   "execution_count": 25,
   "id": "910223326fff9373",
   "metadata": {
    "ExecuteTime": {
     "end_time": "2024-12-30T08:40:17.545342Z",
     "start_time": "2024-12-30T08:40:17.534773Z"
    },
    "collapsed": false
   },
   "outputs": [
    {
     "name": "stdout",
     "output_type": "stream",
     "text": [
      "    Time      Date\n",
      "0  00:00  2019/4/1\n",
      "1  00:02  2019/4/1\n",
      "2  00:00  2019/4/1\n",
      "3  00:00  2019/4/1\n",
      "4  00:11  2019/4/1\n"
     ]
    }
   ],
   "source": [
    "print(data3[['Time', 'Date']].head())  "
   ]
  },
  {
   "cell_type": "code",
   "execution_count": 26,
   "id": "913fb8736b4cb950",
   "metadata": {
    "ExecuteTime": {
     "end_time": "2024-12-30T08:40:33.189Z",
     "start_time": "2024-12-30T08:40:33.151238Z"
    },
    "collapsed": false
   },
   "outputs": [
    {
     "data": {
      "text/plain": [
       "Index           0.0\n",
       "AccessCardNo    0.0\n",
       "Date            0.0\n",
       "Address         0.0\n",
       "Access          0.0\n",
       "Describe        0.0\n",
       "Time            0.0\n",
       "dtype: float64"
      ]
     },
     "execution_count": 26,
     "metadata": {},
     "output_type": "execute_result"
    }
   ],
   "source": [
    "# 检查异常值\n",
    "data3.apply(lambda x : sum(x.isnull())/len(x), axis=0)"
   ]
  },
  {
   "cell_type": "code",
   "execution_count": 27,
   "id": "738644645e92b73a",
   "metadata": {
    "ExecuteTime": {
     "end_time": "2024-12-30T08:44:34.321964Z",
     "start_time": "2024-12-30T08:44:34.307731Z"
    },
    "collapsed": false
   },
   "outputs": [
    {
     "data": {
      "text/plain": [
       "Address\n",
       "飞凤轩[进门]      10689\n",
       "飞凤轩[出门]      10397\n",
       "第六教学楼[进门]     7713\n",
       "第六教学楼[出门]     7217\n",
       "青鸾苑[出门]       3318\n",
       "青鸾苑[进门]       2787\n",
       "第七教学楼[进门]      449\n",
       "第五教学楼[进门]      250\n",
       "第五教学楼[出门]      222\n",
       "第七教学楼[出门]      114\n",
       "Name: count, dtype: int64"
      ]
     },
     "execution_count": 27,
     "metadata": {},
     "output_type": "execute_result"
    }
   ],
   "source": [
    "data3['Address'].value_counts(dropna=False)"
   ]
  },
  {
   "cell_type": "code",
   "execution_count": 28,
   "id": "fee28e7a9c862636",
   "metadata": {
    "ExecuteTime": {
     "end_time": "2024-12-30T08:55:30.443951Z",
     "start_time": "2024-12-30T08:55:30.405892Z"
    },
    "collapsed": false
   },
   "outputs": [
    {
     "data": {
      "text/plain": [
       "Access\n",
       "1    41749\n",
       "0     1407\n",
       "Name: count, dtype: int64"
      ]
     },
     "execution_count": 28,
     "metadata": {},
     "output_type": "execute_result"
    }
   ],
   "source": [
    "data3['Access'].value_counts(dropna=False)"
   ]
  },
  {
   "cell_type": "code",
   "execution_count": 29,
   "id": "deea835ca5b40236",
   "metadata": {
    "ExecuteTime": {
     "end_time": "2024-12-30T09:55:43.506619Z",
     "start_time": "2024-12-30T09:55:43.477696Z"
    },
    "collapsed": false
   },
   "outputs": [
    {
     "name": "stdout",
     "output_type": "stream",
     "text": [
      "删除异常值之后： (41749, 7)\n"
     ]
    }
   ],
   "source": [
    "data3 = data3[data3.loc[:,'Access'] != 0]\n",
    "print('删除异常值之后：',data3.shape)"
   ]
  },
  {
   "cell_type": "code",
   "execution_count": 30,
   "id": "dcb610177a93f88",
   "metadata": {
    "ExecuteTime": {
     "end_time": "2024-12-30T10:00:19.711999Z",
     "start_time": "2024-12-30T10:00:19.607642Z"
    },
    "collapsed": false
   },
   "outputs": [],
   "source": [
    "data3.to_csv('data/task1_1_3.csv', index=False, encoding='gbk')"
   ]
  }
 ],
 "metadata": {
  "kernelspec": {
   "display_name": "base",
   "language": "python",
   "name": "python3"
  },
  "language_info": {
   "codemirror_mode": {
    "name": "ipython",
    "version": 3
   },
   "file_extension": ".py",
   "mimetype": "text/x-python",
   "name": "python",
   "nbconvert_exporter": "python",
   "pygments_lexer": "ipython3",
   "version": "3.12.2"
  }
 },
 "nbformat": 4,
 "nbformat_minor": 5
}
