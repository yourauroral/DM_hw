{
 "cells": [
  {
   "cell_type": "code",
   "execution_count": 6,
   "metadata": {},
   "outputs": [
    {
     "name": "stdout",
     "output_type": "stream",
     "text": [
      "[['牛奶', '面包', '黄油'], ['牛奶', '面包'], ['牛奶', '黄油'], ['面包', '黄油'], ['牛奶', '面包', '黄油']]\n"
     ]
    }
   ],
   "source": [
    "from apyori import apriori\n",
    "\n",
    "# 创建一个示例数据集\n",
    "data = [\n",
    "    ['牛奶', '面包', '黄油'],\n",
    "    ['牛奶', '面包'],\n",
    "    ['牛奶', '黄油'],\n",
    "    ['面包', '黄油'],\n",
    "    ['牛奶', '面包', '黄油']\n",
    "]\n",
    "print(data)"
   ]
  },
  {
   "cell_type": "code",
   "execution_count": 3,
   "metadata": {},
   "outputs": [
    {
     "name": "stdout",
     "output_type": "stream",
     "text": [
      "RelationRecord(items=frozenset({'牛奶'}), support=0.8, ordered_statistics=[OrderedStatistic(items_base=frozenset(), items_add=frozenset({'牛奶'}), confidence=0.8, lift=1.0)])\n",
      "RelationRecord(items=frozenset({'面包'}), support=0.8, ordered_statistics=[OrderedStatistic(items_base=frozenset(), items_add=frozenset({'面包'}), confidence=0.8, lift=1.0)])\n",
      "RelationRecord(items=frozenset({'黄油'}), support=0.8, ordered_statistics=[OrderedStatistic(items_base=frozenset(), items_add=frozenset({'黄油'}), confidence=0.8, lift=1.0)])\n",
      "RelationRecord(items=frozenset({'牛奶', '面包'}), support=0.6, ordered_statistics=[OrderedStatistic(items_base=frozenset({'牛奶'}), items_add=frozenset({'面包'}), confidence=0.7499999999999999, lift=0.9374999999999998), OrderedStatistic(items_base=frozenset({'面包'}), items_add=frozenset({'牛奶'}), confidence=0.7499999999999999, lift=0.9374999999999998)])\n",
      "RelationRecord(items=frozenset({'牛奶', '黄油'}), support=0.6, ordered_statistics=[OrderedStatistic(items_base=frozenset({'牛奶'}), items_add=frozenset({'黄油'}), confidence=0.7499999999999999, lift=0.9374999999999998), OrderedStatistic(items_base=frozenset({'黄油'}), items_add=frozenset({'牛奶'}), confidence=0.7499999999999999, lift=0.9374999999999998)])\n",
      "RelationRecord(items=frozenset({'黄油', '面包'}), support=0.6, ordered_statistics=[OrderedStatistic(items_base=frozenset({'面包'}), items_add=frozenset({'黄油'}), confidence=0.7499999999999999, lift=0.9374999999999998), OrderedStatistic(items_base=frozenset({'黄油'}), items_add=frozenset({'面包'}), confidence=0.7499999999999999, lift=0.9374999999999998)])\n"
     ]
    }
   ],
   "source": [
    "# 使用 Apriori 算法查找频繁项集和关联规则\n",
    "results = list(apriori(data, min_support=0.4, min_confidence=0.7))\n",
    "\n",
    "# 打印结果\n",
    "for result in results:\n",
    "    print(result)"
   ]
  }
 ],
 "metadata": {
  "kernelspec": {
   "display_name": "base",
   "language": "python",
   "name": "python3"
  },
  "language_info": {
   "codemirror_mode": {
    "name": "ipython",
    "version": 3
   },
   "file_extension": ".py",
   "mimetype": "text/x-python",
   "name": "python",
   "nbconvert_exporter": "python",
   "pygments_lexer": "ipython3",
   "version": "3.12.2"
  }
 },
 "nbformat": 4,
 "nbformat_minor": 2
}
