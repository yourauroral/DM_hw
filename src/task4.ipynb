{
 "cells": [
  {
   "cell_type": "code",
   "execution_count": 1,
   "metadata": {},
   "outputs": [
    {
     "name": "stdout",
     "output_type": "stream",
     "text": [
      "      antecedents             consequents  antecedent support  \\\n",
      "0            (存款)                    (消费)            0.964571   \n",
      "1            (消费)                    (存款)            1.000000   \n",
      "2            (存款)             (第七教学楼[进门])            0.964571   \n",
      "3     (第七教学楼[进门])                    (存款)            0.074286   \n",
      "4            (存款)               (飞凤轩[出门])            0.964571   \n",
      "..            ...                     ...                 ...   \n",
      "85  (消费, 飞凤轩[出门])           (存款, 飞凤轩[进门])            0.581714   \n",
      "86           (存款)  (消费, 飞凤轩[进门], 飞凤轩[出门])            0.964571   \n",
      "87      (飞凤轩[进门])       (存款, 消费, 飞凤轩[出门])            0.585143   \n",
      "88           (消费)  (存款, 飞凤轩[进门], 飞凤轩[出门])            1.000000   \n",
      "89      (飞凤轩[出门])       (存款, 飞凤轩[进门], 消费)            0.581714   \n",
      "\n",
      "    consequent support   support  confidence      lift  representativity  \\\n",
      "0             1.000000  0.964571    1.000000  1.000000               1.0   \n",
      "1             0.964571  0.964571    0.964571  1.000000               1.0   \n",
      "2             0.074286  0.072000    0.074645  1.004830               1.0   \n",
      "3             0.964571  0.072000    0.969231  1.004830               1.0   \n",
      "4             0.581714  0.562286    0.582938  1.002104               1.0   \n",
      "..                 ...       ...         ...       ...               ...   \n",
      "85            0.566857  0.560000    0.962672  1.698262               1.0   \n",
      "86            0.578286  0.560000    0.580569  1.003948               1.0   \n",
      "87            0.562286  0.560000    0.957031  1.702037               1.0   \n",
      "88            0.560000  0.560000    0.560000  1.000000               1.0   \n",
      "89            0.566857  0.560000    0.962672  1.698262               1.0   \n",
      "\n",
      "    leverage  conviction  zhangs_metric   jaccard  certainty  kulczynski  \n",
      "0   0.000000         inf       0.000000  0.964571   0.000000    0.982286  \n",
      "1   0.000000    1.000000       0.000000  0.964571   0.000000    0.982286  \n",
      "2   0.000346    1.000388       0.135689  0.074468   0.000388    0.521938  \n",
      "3   0.000346    1.151429       0.005193  0.074468   0.131514    0.521938  \n",
      "4   0.001181    1.002935       0.059271  0.571429   0.002926    0.774770  \n",
      "..       ...         ...            ...       ...        ...         ...  \n",
      "85  0.230251   11.603669       0.982971  0.951456   0.913820    0.975288  \n",
      "86  0.002202    1.005443       0.110994  0.569767   0.005414    0.774474  \n",
      "87  0.230983   10.186805       0.994243  0.953307   0.901834    0.976483  \n",
      "88  0.000000    1.000000       0.000000  0.560000   0.000000    0.780000  \n",
      "89  0.230251   11.603669       0.982971  0.951456   0.913820    0.975288  \n",
      "\n",
      "[90 rows x 14 columns]\n"
     ]
    },
    {
     "name": "stderr",
     "output_type": "stream",
     "text": [
      "/root/miniconda3/lib/python3.12/site-packages/mlxtend/frequent_patterns/association_rules.py:182: RuntimeWarning: invalid value encountered in divide\n",
      "  cert_metric = np.where(certainty_denom == 0, 0, certainty_num / certainty_denom)\n"
     ]
    }
   ],
   "source": [
    "import pandas as pd\n",
    "from mlxtend.preprocessing import TransactionEncoder\n",
    "from mlxtend.frequent_patterns import apriori, association_rules\n",
    "\n",
    "# 读取消费记录和学生信息关联表\n",
    "consumption = pd.read_csv('./data/task1_2_1.csv',encoding='gbk')\n",
    "\n",
    "# 读取门禁记录和学生信息关联表\n",
    "access = pd.read_csv('data/task1_2_2.csv',encoding='gbk')\n",
    "\n",
    "# 按学生ID分组，提取每个学生的消费类别列表\n",
    "consumption_grouped = consumption.groupby('CardNo')['Type'].apply(list).reset_index()\n",
    "\n",
    "# 按学生ID分组，提取每个学生的门禁地点列表\n",
    "access_grouped = access.groupby('CardNo')['Address'].apply(list).reset_index()\n",
    "\n",
    "# 合并消费和门禁数据\n",
    "merged = pd.merge(consumption_grouped, access_grouped, on='CardNo', how='inner')\n",
    "\n",
    "# 将消费类别和门禁地点合并成一个列表\n",
    "merged['items'] = merged.apply(lambda row: row['Type'] + row['Address'], axis=1)\n",
    "\n",
    "# 将事务数据转换为二进制矩阵\n",
    "te = TransactionEncoder()\n",
    "te_ary = te.fit(merged['items']).transform(merged['items'])\n",
    "df = pd.DataFrame(te_ary, columns=te.columns_)\n",
    "\n",
    "# 生成频繁项集\n",
    "frequent_itemsets = apriori(df, min_support=0.05, use_colnames=True)\n",
    "\n",
    "# 生成关联规则\n",
    "rules = association_rules(frequent_itemsets, metric=\"lift\", min_threshold=1,num_itemsets=2)\n",
    "\n",
    "# 查看结果\n",
    "print(rules)"
   ]
  },
  {
   "cell_type": "markdown",
   "metadata": {},
   "source": [
    "第一行：\n",
    "\n",
    "antecedents: （消费）\n",
    "\n",
    "consequents: （存款）\n",
    "\n",
    "antecedentsupport: 1.000000\n",
    "\n",
    "consequentsupport: 0.964571\n",
    "\n",
    "support: 0.964571\n",
    "\n",
    "confidence: 0.964571\n",
    "\n",
    "lift: 1.000000\n",
    "\n",
    "leverage: 0.000000\n",
    "\n",
    "conviction: 1.000000\n",
    "\n",
    "这表示如果一个学生有“消费”，那么他有“存款”的规则。支持度是0.964571，置信度也是0.964571，提升度是1.0，杠杆是0，信度是1。\n",
    "\n",
    "看起来这个规则的支持度很高，但提升度是1，表示没有关联，因为提升度等于1意味着前项和后项是独立的。可是支持度和置信度都很高，可能数据中有大部分学生都有存款，所以这种规则没有实际意义。"
   ]
  },
  {
   "cell_type": "markdown",
   "metadata": {},
   "source": [
    "第二行：\n",
    "\n",
    "antecedents: （存款）\n",
    "\n",
    "consequents: （消费）\n",
    "\n",
    "antecedentsupport: 0.964571\n",
    "\n",
    "consequentsupport: 1.000000\n",
    "\n",
    "support: 0.964571\n",
    "\n",
    "confidence: 1.000000\n",
    "\n",
    "lift: 1.000000\n",
    "\n",
    "leverage: 0.000000\n",
    "\n",
    "conviction: inf\n",
    "\n",
    "这表示如果一个学生有“存款”，那么他有“消费”。支持度0.964571，置信度1.0，提升度1.0，杠杆0，信度是无穷大。\n",
    "\n",
    "同样，大部分有存款的学生都有消费，但因为提升度是1，说明独立。"
   ]
  },
  {
   "cell_type": "markdown",
   "metadata": {},
   "source": [
    "名词回忆：\n",
    "  - 支持度(Support):表示规则在数据集中出现的频率，值越高表示规则越普通\n",
    "  - 置信度(Confidence):表示前项出现的情况下，后项出现的概率，值越高表示规则越可靠\n",
    "  - 提升度(Lift):表示规则的关联强度，值大于1表示正向关联，小于1表示负向关联，等于1表示无关联\n",
    "  - 杠杆(Leverage):表示规则的有趣程度，值越高表示规则越有趣\n",
    "  - 信度(Conviction):表示如果前项不出现，后项不出现的程度，值越高规则越强。"
   ]
  },
  {
   "cell_type": "code",
   "execution_count": 2,
   "metadata": {},
   "outputs": [],
   "source": [
    "rules.to_csv('data/task4.csv',index=False,encoding='gbk')"
   ]
  }
 ],
 "metadata": {
  "kernelspec": {
   "display_name": "base",
   "language": "python",
   "name": "python3"
  },
  "language_info": {
   "codemirror_mode": {
    "name": "ipython",
    "version": 3
   },
   "file_extension": ".py",
   "mimetype": "text/x-python",
   "name": "python",
   "nbconvert_exporter": "python",
   "pygments_lexer": "ipython3",
   "version": "3.12.2"
  }
 },
 "nbformat": 4,
 "nbformat_minor": 2
}
